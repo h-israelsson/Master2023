{
 "cells": [
  {
   "cell_type": "code",
   "execution_count": 1,
   "metadata": {},
   "outputs": [],
   "source": [
    "import tifffile\n",
    "import python_test\n",
    "import pandas as pd\n",
    "import napari\n",
    "import numpy as np\n",
    "import skimage\n",
    "from scipy import ndimage\n",
    "from cellpose import models\n",
    "import matplotlib.pyplot as plt\n",
    "import os\n",
    "from tqdm import tqdm"
   ]
  },
  {
   "cell_type": "code",
   "execution_count": 3,
   "metadata": {},
   "outputs": [],
   "source": [
    "raw_path = '/home/sim/Data/Max/gcamp/tif/'\n",
    "images = os.listdir(raw_path)\n",
    "model_path = '/home/sim/OneDrive/Data/by_projects/gcamp/d/train_data/cellpose/models/cellpose_residual_on_style_on_concatenation_off_cellpose_2023_11_30_15_15_43.973221'\n",
    "save_path = '/home/sim/Data/Max/gcamp/masks_tracked/'\n",
    "\n",
    "occurrence_limit = 50   # Percentage of images a cell has to be in order to be accounted for\n",
    "\n",
    "T = 10 # Period between images (seconds)\n",
    "max_dt = 30     # Maximum time shift allowed for the correlation calculations (time steps)\n",
    "\n",
    "# If generating new masks\n",
    "diam = 30   # standard setting when trained\n",
    "dist_limit = diam / 2    # Slightly less than half average diameter\n",
    "backtrack_limit = 15"
   ]
  },
  {
   "cell_type": "code",
   "execution_count": 4,
   "metadata": {},
   "outputs": [],
   "source": [
    "def track_Y(X, model, diam=30):\n",
    "    \n",
    "    # remove empty images\n",
    "    mean = np.mean(X, axis=(1,2))\n",
    "\n",
    "    crop = list(np.where(mean == 0))\n",
    "    if len(crop[0])>0:\n",
    "        X=X[:crop[0][0],:,:]\n",
    "    else:\n",
    "        X = X\n",
    "\n",
    "    X = [np.squeeze(i) for i in np.split(X, X.shape[0])]\n",
    "    # predict labels on model\n",
    "    Y = []\n",
    "    for x in tqdm(X, desc = 'Segmenting timeseries', unit = 't'):\n",
    "        \n",
    "        y, flows, styles = model.eval(x,\n",
    "                                   diameter=diam, channels=[0,0],\n",
    "                                      flow_threshold=0.4, do_3D=False)\n",
    "        Y.append(y)\n",
    "    print('Track masks over time')\n",
    "    Y = python_test.get_tracked_masks(masks = np.array(Y))\n",
    "\n",
    "    \n",
    "    \n",
    "    \n",
    "    return Y"
   ]
  },
  {
   "cell_type": "code",
   "execution_count": 5,
   "metadata": {},
   "outputs": [
    {
     "name": "stdout",
     "output_type": "stream",
     "text": [
      "Image name: Oua 200 nM 2023-02-27_10s.tif\n"
     ]
    },
    {
     "name": "stderr",
     "output_type": "stream",
     "text": [
      "Segmenting timeseries: 100%|██████████| 5761/5761 [23:28<00:00,  4.09t/s]\n"
     ]
    },
    {
     "name": "stdout",
     "output_type": "stream",
     "text": [
      "Track masks over time\n",
      "Masks saved.\n",
      "Image name: oua 200 nM 23 03 29_15s.tif\n"
     ]
    },
    {
     "name": "stderr",
     "output_type": "stream",
     "text": [
      "Segmenting timeseries: 100%|██████████| 3283/3283 [13:53<00:00,  3.94t/s]\n"
     ]
    },
    {
     "name": "stdout",
     "output_type": "stream",
     "text": [
      "Track masks over time\n",
      "Masks saved.\n",
      "Image name: ctl 2023 03 09_15s.tif\n"
     ]
    },
    {
     "name": "stderr",
     "output_type": "stream",
     "text": [
      "Segmenting timeseries: 100%|██████████| 3361/3361 [14:22<00:00,  3.90t/s]\n"
     ]
    },
    {
     "name": "stdout",
     "output_type": "stream",
     "text": [
      "Track masks over time\n",
      "Masks saved.\n",
      "Image name: 2 APB Oua 10 nM 23 03 04_15s.tif\n"
     ]
    },
    {
     "name": "stderr",
     "output_type": "stream",
     "text": [
      "Segmenting timeseries: 100%|██████████| 3358/3358 [15:22<00:00,  3.64t/s]\n"
     ]
    },
    {
     "name": "stdout",
     "output_type": "stream",
     "text": [
      "Track masks over time\n",
      "Masks saved.\n",
      "Image name: 2 APB + OUA 10 overnight 1 30 03 23_15s.tif\n"
     ]
    },
    {
     "name": "stderr",
     "output_type": "stream",
     "text": [
      "Segmenting timeseries: 100%|██████████| 3361/3361 [15:48<00:00,  3.54t/s]\n"
     ]
    },
    {
     "name": "stdout",
     "output_type": "stream",
     "text": [
      "Track masks over time\n",
      "Masks saved.\n",
      "Image name: 2APB + OUA_15s.tif\n"
     ]
    },
    {
     "name": "stderr",
     "output_type": "stream",
     "text": [
      "Segmenting timeseries: 100%|██████████| 3361/3361 [14:17<00:00,  3.92t/s]\n"
     ]
    },
    {
     "name": "stdout",
     "output_type": "stream",
     "text": [
      "Track masks over time\n",
      "Masks saved.\n",
      "Image name: oua 10 nM overnight 1_15s.tif\n"
     ]
    },
    {
     "name": "stderr",
     "output_type": "stream",
     "text": [
      "Segmenting timeseries: 100%|██████████| 3361/3361 [14:27<00:00,  3.88t/s]\n"
     ]
    },
    {
     "name": "stdout",
     "output_type": "stream",
     "text": [
      "Track masks over time\n",
      "Masks saved.\n",
      "Image name: Oua 200 nM 03 03_15s.tif\n"
     ]
    },
    {
     "name": "stderr",
     "output_type": "stream",
     "text": [
      "Segmenting timeseries: 100%|██████████| 3361/3361 [13:29<00:00,  4.15t/s]\n"
     ]
    },
    {
     "name": "stdout",
     "output_type": "stream",
     "text": [
      "Track masks over time\n",
      "Masks saved.\n",
      "Image name: ctl 2023 03 05_15s.tif\n"
     ]
    },
    {
     "name": "stderr",
     "output_type": "stream",
     "text": [
      "Segmenting timeseries: 100%|██████████| 3361/3361 [15:16<00:00,  3.67t/s]\n"
     ]
    },
    {
     "name": "stdout",
     "output_type": "stream",
     "text": [
      "Track masks over time\n",
      "Masks saved.\n",
      "Image name: Oua 10 nM_15s.tif\n"
     ]
    },
    {
     "name": "stderr",
     "output_type": "stream",
     "text": [
      "Segmenting timeseries: 100%|██████████| 3361/3361 [15:45<00:00,  3.56t/s]\n"
     ]
    },
    {
     "name": "stdout",
     "output_type": "stream",
     "text": [
      "Track masks over time\n",
      "Masks saved.\n",
      "Image name: 2 APB 2023 03 08_15s.tif\n"
     ]
    },
    {
     "name": "stderr",
     "output_type": "stream",
     "text": [
      "Segmenting timeseries: 100%|██████████| 601/601 [02:47<00:00,  3.59t/s]\n"
     ]
    },
    {
     "name": "stdout",
     "output_type": "stream",
     "text": [
      "Track masks over time\n",
      "Masks saved.\n",
      "Image name: ctl 2023 04 05_15s.tif\n"
     ]
    },
    {
     "name": "stderr",
     "output_type": "stream",
     "text": [
      "Segmenting timeseries: 100%|██████████| 3361/3361 [16:15<00:00,  3.45t/s]\n"
     ]
    },
    {
     "name": "stdout",
     "output_type": "stream",
     "text": [
      "Track masks over time\n",
      "Masks saved.\n",
      "Image name: 2 APB 2023 03 07_15s.tif\n"
     ]
    },
    {
     "name": "stderr",
     "output_type": "stream",
     "text": [
      "Segmenting timeseries: 100%|██████████| 601/601 [02:30<00:00,  3.98t/s]\n"
     ]
    },
    {
     "name": "stdout",
     "output_type": "stream",
     "text": [
      "Track masks over time\n",
      "Masks saved.\n",
      "Image name: ctl 2023 03 28_15s.tif\n"
     ]
    },
    {
     "name": "stderr",
     "output_type": "stream",
     "text": [
      "Segmenting timeseries: 100%|██████████| 3361/3361 [17:58<00:00,  3.12t/s]\n"
     ]
    },
    {
     "name": "stdout",
     "output_type": "stream",
     "text": [
      "Track masks over time\n",
      "Masks saved.\n"
     ]
    }
   ],
   "source": [
    "for i in range(len(images)):\n",
    "    print('Image name: ' + images[i])\n",
    "    if images[i] in os.listdir(save_path):\n",
    "        print('Segmentation for ' + images[i] + ' already exists.')\n",
    "        continue\n",
    "    else:\n",
    "        X = tifffile.imread(raw_path + images[i])\n",
    "        X = X[:,:,:]\n",
    "        # load model\n",
    "        model = models.CellposeModel(gpu = True, pretrained_model=model_path)\n",
    "        Y = track_Y(X, model)\n",
    "        tifffile.imwrite(save_path + images[i], Y, imagej=True, metadata={'axes':'TYX'})\n",
    "        print('Masks saved.')\n",
    "\n",
    "\n"
   ]
  }
 ],
 "metadata": {
  "kernelspec": {
   "display_name": "cuda_118",
   "language": "python",
   "name": "python3"
  },
  "language_info": {
   "codemirror_mode": {
    "name": "ipython",
    "version": 3
   },
   "file_extension": ".py",
   "mimetype": "text/x-python",
   "name": "python",
   "nbconvert_exporter": "python",
   "pygments_lexer": "ipython3",
   "version": "3.10.13"
  }
 },
 "nbformat": 4,
 "nbformat_minor": 2
}
