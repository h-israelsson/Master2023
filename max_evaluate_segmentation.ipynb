{
 "cells": [
  {
   "cell_type": "code",
   "execution_count": 19,
   "metadata": {},
   "outputs": [],
   "source": [
    "import tifffile\n",
    "import python_test\n",
    "import pandas as pd\n",
    "import napari\n",
    "import numpy as np\n",
    "import skimage\n",
    "from scipy import ndimage\n",
    "from cellpose import models\n",
    "import matplotlib.pyplot as plt\n",
    "import os\n",
    "from sklearn.metrics import f1_score\n",
    "from sklearn.metrics import jaccard_score"
   ]
  },
  {
   "cell_type": "code",
   "execution_count": 10,
   "metadata": {},
   "outputs": [],
   "source": [
    "viewer = napari.Viewer()"
   ]
  },
  {
   "cell_type": "code",
   "execution_count": 7,
   "metadata": {},
   "outputs": [],
   "source": [
    "model_path = '/home/sim/OneDrive/Data/by_projects/gcamp/d/train_data/cellpose/models/cellpose_residual_on_style_on_concatenation_off_cellpose_2023_11_30_15_15_43.973221'\n",
    "data = '/home/sim/OneDrive/Data/by_projects/gcamp/d/train_data/images/'\n",
    "labels = '/home/sim/OneDrive/Data/by_projects/gcamp/d/train_data/labels/'\n",
    "X = sorted(os.listdir(data))\n",
    "X = [tifffile.imread(data + i) for i in X]\n",
    "Y_true = sorted(os.listdir(labels))\n",
    "Y_true = np.array([tifffile.imread(labels + i) for i in Y_true])"
   ]
  },
  {
   "cell_type": "code",
   "execution_count": 8,
   "metadata": {},
   "outputs": [],
   "source": [
    "model = models.CellposeModel(gpu = True, pretrained_model=model_path)\n",
    "masks, flows, styles = model.eval(X,\n",
    "                                   diameter=30, channels=[0,0],\n",
    "                                      flow_threshold=0.4, do_3D=False)\n",
    "Y_pred = np.array(masks)"
   ]
  },
  {
   "cell_type": "code",
   "execution_count": 25,
   "metadata": {},
   "outputs": [],
   "source": [
    "model_path = \"./for-the-report-cyto2\"\n",
    "model = models.CellposeModel(gpu = True, pretrained_model=model_path)\n",
    "masks, flows, styles = model.eval(X,\n",
    "                                   diameter=30, channels=[0,0],\n",
    "                                      flow_threshold=0.4, do_3D=False)\n",
    "Y_pred2 = np.array(masks)"
   ]
  },
  {
   "cell_type": "code",
   "execution_count": 26,
   "metadata": {},
   "outputs": [
    {
     "data": {
      "text/plain": [
       "<Image layer 'Y_pred2' at 0x7f9a7714cb80>"
      ]
     },
     "execution_count": 26,
     "metadata": {},
     "output_type": "execute_result"
    }
   ],
   "source": [
    "viewer.add_image(Y_pred2)"
   ]
  },
  {
   "cell_type": "code",
   "execution_count": 11,
   "metadata": {},
   "outputs": [
    {
     "data": {
      "text/plain": [
       "<Labels layer 'Y_pred' at 0x7f9a14339d20>"
      ]
     },
     "execution_count": 11,
     "metadata": {},
     "output_type": "execute_result"
    }
   ],
   "source": [
    "viewer.add_image(np.array(X))\n",
    "viewer.add_labels(Y_true)\n",
    "viewer.add_labels(Y_pred)"
   ]
  },
  {
   "cell_type": "code",
   "execution_count": 40,
   "metadata": {},
   "outputs": [
    {
     "name": "stdout",
     "output_type": "stream",
     "text": [
      "0\n",
      "Average Max IoU: 0.8511065329312785\n",
      "Average Max IoU: 0.8351684951101499\n",
      "1\n",
      "Average Max IoU: 0.8157236100872273\n",
      "Average Max IoU: 0.8663929893576096\n",
      "2\n",
      "Average Max IoU: 0.8523786661804879\n",
      "Average Max IoU: 0.8423120447125138\n",
      "3\n",
      "Average Max IoU: 0.8405531061039849\n",
      "Average Max IoU: 0.868154096776257\n",
      "4\n",
      "Average Max IoU: 0.8599511759360795\n",
      "Average Max IoU: 0.891358458688232\n",
      "5\n",
      "Average Max IoU: 0.8522786194765284\n",
      "Average Max IoU: 0.8805699658003252\n",
      "6\n",
      "Average Max IoU: 0.844901443355413\n",
      "Average Max IoU: 0.8916395376694901\n",
      "7\n",
      "Average Max IoU: 0.7120006773527144\n",
      "Average Max IoU: 0.8377059789659965\n",
      "8\n",
      "Average Max IoU: 0.7769391256147538\n",
      "Average Max IoU: 0.8511781803905006\n",
      "9\n",
      "Average Max IoU: 0.8683734953124803\n",
      "Average Max IoU: 0.9051106880715538\n",
      "10\n",
      "Average Max IoU: 0.8620049085395544\n",
      "Average Max IoU: 0.8941204625074428\n",
      "11\n",
      "Average Max IoU: 0.7538380636775086\n",
      "Average Max IoU: 0.8171326748240922\n",
      "12\n",
      "Average Max IoU: 0.7159911401192475\n",
      "Average Max IoU: 0.8211247943726975\n",
      "13\n",
      "Average Max IoU: 0.8710132321817649\n",
      "Average Max IoU: 0.8888878253929755\n",
      "14\n",
      "Average Max IoU: 0.8606232085483778\n",
      "Average Max IoU: 0.8965008235250223\n",
      "15\n",
      "Average Max IoU: 0.8337017747234173\n",
      "Average Max IoU: 0.8964399198653124\n",
      "16\n",
      "Average Max IoU: 0.8033149778390997\n",
      "Average Max IoU: 0.8273681083818339\n",
      "17\n",
      "Average Max IoU: 0.8279589022308871\n",
      "Average Max IoU: 0.8685355862601318\n",
      "18\n",
      "Average Max IoU: 0.8433111984943321\n",
      "Average Max IoU: 0.8632935924831362\n",
      "19\n",
      "Average Max IoU: 0.7469220517438452\n",
      "Average Max IoU: 0.8377858285798462\n"
     ]
    }
   ],
   "source": [
    "def compute_iou_for_labels(true_labels, pred_labels):\n",
    "    unique_true_labels = np.unique(true_labels)\n",
    "    unique_pred_labels = np.unique(pred_labels)\n",
    "\n",
    "    iou_scores = np.zeros((len(unique_true_labels), len(unique_pred_labels)))\n",
    "\n",
    "    for i, true_label in enumerate(unique_true_labels):\n",
    "        for j, pred_label in enumerate(unique_pred_labels):\n",
    "            true_mask = (true_labels == true_label).astype(int)\n",
    "            pred_mask = (pred_labels == pred_label).astype(int)\n",
    "\n",
    "            intersection = np.sum(np.logical_and(true_mask, pred_mask))\n",
    "            union = np.sum(np.logical_or(true_mask, pred_mask))\n",
    "\n",
    "            iou = intersection / union if union != 0 else 0\n",
    "            iou_scores[i, j] = iou\n",
    "\n",
    "    return iou_scores\n",
    "\n",
    "def compute_max_iou_for_each_label(iou_scores):\n",
    "    max_iou_for_each_true_label = np.max(iou_scores, axis=1)\n",
    "    return max_iou_for_each_true_label\n",
    "\n",
    "\n",
    "\n",
    "def do(x, y):# Assuming true_labels and pred_labels are the ground truth and predicted labels, respectively\n",
    "    iou_scores = compute_iou_for_labels(x, y)\n",
    "    max_iou_for_each_true_label = compute_max_iou_for_each_label(iou_scores)\n",
    "\n",
    "    average_iou = np.mean(max_iou_for_each_true_label)\n",
    "    print(\"Average Max IoU:\", average_iou)\n",
    "\n",
    "for i in range(Y_true.shape[0]):\n",
    "    print(i)\n",
    "    do(Y_true[i], Y_pred2[i])\n",
    "    do(Y_true[i], Y_pred[i])"
   ]
  },
  {
   "cell_type": "code",
   "execution_count": null,
   "metadata": {},
   "outputs": [],
   "source": []
  }
 ],
 "metadata": {
  "kernelspec": {
   "display_name": "cuda_118",
   "language": "python",
   "name": "python3"
  },
  "language_info": {
   "codemirror_mode": {
    "name": "ipython",
    "version": 3
   },
   "file_extension": ".py",
   "mimetype": "text/x-python",
   "name": "python",
   "nbconvert_exporter": "python",
   "pygments_lexer": "ipython3",
   "version": "3.10.13"
  }
 },
 "nbformat": 4,
 "nbformat_minor": 2
}
