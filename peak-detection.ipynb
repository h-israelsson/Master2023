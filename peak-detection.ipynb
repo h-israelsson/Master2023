{
 "cells": [
  {
   "cell_type": "code",
   "execution_count": 7,
   "metadata": {},
   "outputs": [],
   "source": [
    "from scipy.signal import find_peaks\n",
    "import pandas as pd\n",
    "import matplotlib.pyplot as plt\n",
    "from statistics import mean\n",
    "import os\n",
    "import numpy as np"
   ]
  },
  {
   "cell_type": "code",
   "execution_count": 26,
   "metadata": {},
   "outputs": [],
   "source": [
    "def add_peak_data(path):\n",
    "    df = pd.read_csv(path, index_col=[0,1])\n",
    "    intsies = df.loc[\"Intensities\"]\n",
    "    npeaks = {}\n",
    "    peaks_data = {}\n",
    "    for c in intsies:\n",
    "        i = list(intsies[c].astype(float))\n",
    "        threshold = (np.max(i)-np.min(i))/6\n",
    "        peaks = find_peaks(i, threshold=threshold)\n",
    "        npeaks[c] = len(peaks[0])\n",
    "        peaks_data[c] = peaks\n",
    "    dfnpeaks = pd.DataFrame([npeaks], [\"Number of peaks\"])\n",
    "    dfpeaks_data = pd.DataFrame([peaks_data], [\"Peaks data\"])\n",
    "    dfpeaks = pd.concat([dfnpeaks, dfpeaks_data], keys=[\"Analysis results\", \"Analysis results\"])\n",
    "    df_new = pd.concat([dfpeaks, df])\n",
    "    return df_new\n"
   ]
  },
  {
   "cell_type": "code",
   "execution_count": 3,
   "metadata": {},
   "outputs": [],
   "source": [
    "def create_folder(folder_path):\n",
    "    if not os.path.exists(folder_path):\n",
    "        os.makedirs(folder_path)\n",
    "        print(f\"Folder '{folder_path}' created successfully.\")\n",
    "    else:\n",
    "        print(f\"Folder '{folder_path}' already exists.\")"
   ]
  },
  {
   "cell_type": "code",
   "execution_count": 27,
   "metadata": {},
   "outputs": [
    {
     "name": "stdout",
     "output_type": "stream",
     "text": [
      "Folder '//storage3.ad.scilifelab.se/alm/BrismarGroup/Hanna/240115_correlation_data/csv_with_peaks/' already exists.\n",
      "CSV for 2 APB + OUA 10 overnight 1 30 03 23_15s.csv already exists.\n",
      "CSV for 2 APB 2023 03 07_15s.csv already exists.\n",
      "2 APB 2023 03 08_15s.csv\n",
      "2 APB Oua 10 nM 23 03 04_15s.csv\n",
      "2APB + OUA_15s.csv\n",
      "ctl 2023 03 05_15s.csv\n",
      "ctl 2023 03 09_15s.csv\n",
      "ctl 2023 03 28_15s.csv\n",
      "ctl 2023 04 05_15s.csv\n",
      "Oua 10 nM overnight 1_15s.csv\n",
      "Oua 10 nM_15s.csv\n",
      "Oua 200 nM 03 03_15s.csv\n",
      "Oua 200 nM 23 03 29_15s.csv\n"
     ]
    }
   ],
   "source": [
    "csv_path = \"//storage3.ad.scilifelab.se/alm/BrismarGroup/Hanna/240115_correlation_data/csvs_new2_trained_from_scratch/\"\n",
    "save_path = '//storage3.ad.scilifelab.se/alm/BrismarGroup/Hanna/240115_correlation_data/csv_with_peaks/'\n",
    "force_redo = False\n",
    "\n",
    "all_csvs = os.listdir(csv_path)\n",
    "create_folder(save_path)\n",
    "\n",
    "for f in all_csvs:\n",
    "    save_name = f[:-4] + '.csv'\n",
    "    if save_name in os.listdir(save_path) and force_redo == False:\n",
    "        print('CSV for ' + f + ' already exists.')\n",
    "        continue\n",
    "    else:\n",
    "        print(f)\n",
    "        df = add_peak_data(csv_path + f)\n",
    "        df.to_csv(save_path + f[:-4] + '.csv')"
   ]
  }
 ],
 "metadata": {
  "kernelspec": {
   "display_name": "cellpose",
   "language": "python",
   "name": "python3"
  },
  "language_info": {
   "codemirror_mode": {
    "name": "ipython",
    "version": 3
   },
   "file_extension": ".py",
   "mimetype": "text/x-python",
   "name": "python",
   "nbconvert_exporter": "python",
   "pygments_lexer": "ipython3",
   "version": "3.8.16"
  }
 },
 "nbformat": 4,
 "nbformat_minor": 2
}
