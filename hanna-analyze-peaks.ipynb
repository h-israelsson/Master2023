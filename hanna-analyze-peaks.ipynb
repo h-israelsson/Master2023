{
 "cells": [
  {
   "cell_type": "code",
   "execution_count": 34,
   "metadata": {},
   "outputs": [],
   "source": [
    "import tifffile\n",
    "import python_test as pt\n",
    "import numpy as np\n",
    "import os\n",
    "import matplotlib.pyplot as plt\n",
    "import pandas as pd\n",
    "import os\n",
    "import pickle\n",
    "from scipy.signal import find_peaks, peak_prominences\n",
    "from statistics import mean, median"
   ]
  },
  {
   "cell_type": "code",
   "execution_count": 36,
   "metadata": {},
   "outputs": [
    {
     "name": "stdout",
     "output_type": "stream",
     "text": [
      "21.324324324324323\n",
      "30.807692307692307\n",
      "29.464285714285715\n",
      "3.25\n",
      "0.9629629629629629\n",
      "43.1\n",
      "26.64\n",
      "74.47368421052632\n",
      "33.32\n",
      "25.25\n",
      "39.81818181818182\n",
      "29\n",
      "26.454545454545453\n",
      "29.8\n"
     ]
    }
   ],
   "source": [
    "# pkl_path = \"//storage3.ad.scilifelab.se/alm/BrismarGroup/Hanna/Master2023/data/filtered_pkl/\"\n",
    "pkl_path = \"//storage3.ad.scilifelab.se/alm/BrismarGroup/Hanna/Master2023/data/filtered_pkl_full_recording/\"\n",
    "all_files = os.listdir(pkl_path)\n",
    "\n",
    "proms = {}\n",
    "for f in all_files:\n",
    "    with open(pkl_path+f, 'rb') as x:\n",
    "        x = pd.read_pickle(x)\n",
    "    npeaks = []\n",
    "    promsf = []\n",
    "    for i in x:\n",
    "        xi = np.array(x[i][\"intensities\"])\n",
    "        y = (xi - np.min(xi)) / (np.max(xi) - np.min(xi))\n",
    "        peaks = find_peaks(y, distance=3, prominence=0.1)[0]\n",
    "        npeaks.append(len(peaks))\n",
    "        promsf.extend(peak_prominences(xi, peaks)[0])\n",
    "    proms[f[:-4]] = promsf\n",
    "    print(mean(npeaks))"
   ]
  },
  {
   "cell_type": "code",
   "execution_count": 38,
   "metadata": {},
   "outputs": [
    {
     "name": "stdout",
     "output_type": "stream",
     "text": [
      "2 APB + OUA 10 overnight 1 30 03 23_15s        3264.254119434381\n",
      "2 APB 2023 03 07_15s        23425.564715517656\n",
      "2 APB 2023 03 08_15s        34532.972881693866\n",
      "2 APB Oua 10 nM 23 03 04_15s        1247.908207018007\n",
      "2APB + OUA_15s        3216.0472886033317\n",
      "ctl 2023 03 05_15s        36960.21671217843\n",
      "ctl 2023 03 09_15s        42927.77005474581\n",
      "ctl 2023 03 28_15s        6361.550532562662\n",
      "ctl 2023 04 05_15s        1891.3393423931466\n",
      "oua 10 nM overnight 1_15s        10407.065683485227\n",
      "Oua 10 nM_15s        27623.79408741407\n",
      "Oua 200 nM 03 03_15s        11001.428070175438\n",
      "Oua 200 nM 2023-02-27_10s        13755.391064998577\n",
      "oua 200 nM 23 03 29_15s        2653.6630143112707\n"
     ]
    }
   ],
   "source": [
    "for p in proms:\n",
    "    # print(p, \"      \", median(proms[p]))\n",
    "    print(p, \"      \", max(proms[p]))"
   ]
  },
  {
   "cell_type": "code",
   "execution_count": 8,
   "metadata": {},
   "outputs": [
    {
     "name": "stdout",
     "output_type": "stream",
     "text": [
      "11\n",
      "12\n",
      "17\n",
      "18\n",
      "19\n",
      "21\n",
      "22\n",
      "24\n",
      "26\n",
      "30\n",
      "31\n",
      "33\n",
      "35\n",
      "36\n",
      "41\n",
      "42\n",
      "45\n",
      "46\n",
      "48\n",
      "49\n",
      "50\n",
      "53\n",
      "54\n",
      "58\n",
      "59\n",
      "60\n",
      "61\n",
      "62\n",
      "64\n",
      "66\n",
      "68\n",
      "70\n",
      "73\n",
      "74\n",
      "75\n",
      "76\n",
      "77\n",
      "79\n",
      "80\n",
      "81\n",
      "82\n",
      "83\n",
      "84\n",
      "85\n",
      "90\n",
      "91\n",
      "115\n",
      "118\n",
      "119\n",
      "121\n",
      "123\n",
      "125\n",
      "126\n",
      "128\n",
      "129\n",
      "132\n"
     ]
    }
   ],
   "source": [
    "for i in x:\n",
    "    print(i)"
   ]
  }
 ],
 "metadata": {
  "kernelspec": {
   "display_name": "cellpose",
   "language": "python",
   "name": "python3"
  },
  "language_info": {
   "codemirror_mode": {
    "name": "ipython",
    "version": 3
   },
   "file_extension": ".py",
   "mimetype": "text/x-python",
   "name": "python",
   "nbconvert_exporter": "python",
   "pygments_lexer": "ipython3",
   "version": "3.8.16"
  }
 },
 "nbformat": 4,
 "nbformat_minor": 2
}
