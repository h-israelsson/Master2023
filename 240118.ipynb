{
 "cells": [
  {
   "cell_type": "code",
   "execution_count": 1,
   "metadata": {},
   "outputs": [],
   "source": [
    "import tifffile\n",
    "import python_test\n",
    "import pandas as pd\n",
    "import numpy as np\n",
    "import skimage\n",
    "from scipy import ndimage\n",
    "from cellpose import models\n",
    "import matplotlib.pyplot as plt\n",
    "import os\n",
    "import pickle"
   ]
  },
  {
   "cell_type": "code",
   "execution_count": 2,
   "metadata": {},
   "outputs": [],
   "source": [
    "def create_folder(folder_path):\n",
    "    if not os.path.exists(folder_path):\n",
    "        os.makedirs(folder_path)\n",
    "        print(f\"Folder '{folder_path}' created successfully.\")\n",
    "    else:\n",
    "        print(f\"Folder '{folder_path}' already exists.\")\n"
   ]
  },
  {
   "cell_type": "code",
   "execution_count": 3,
   "metadata": {},
   "outputs": [],
   "source": [
    "force_redo = False\n",
    "masks_path = '/home/sim/OneDrive/Data/by_projects/gcamp/masks_new_trained_scratch/'\n",
    "tif_path = '/home/sim/OneDrive/Data/by_projects/gcamp/tif/'\n",
    "save_path = '/home/sim/OneDrive/Data/by_projects/gcamp/output_npy_saved/'"
   ]
  },
  {
   "cell_type": "code",
   "execution_count": 16,
   "metadata": {},
   "outputs": [
    {
     "name": "stdout",
     "output_type": "stream",
     "text": [
      "Folder '/home/sim/OneDrive/Data/by_projects/gcamp/output_npy_saved/' already exists.\n",
      "2 APB 2023 03 08_46_7.tif\n"
     ]
    }
   ],
   "source": [
    "all_masks = os.listdir(masks_path)\n",
    "create_folder(save_path)\n",
    "random_masks = np.random.choice(all_masks)\n",
    "print(random_masks)"
   ]
  },
  {
   "cell_type": "code",
   "execution_count": 17,
   "metadata": {},
   "outputs": [
    {
     "name": "stdout",
     "output_type": "stream",
     "text": [
      "Get intensities\n"
     ]
    },
    {
     "name": "stderr",
     "output_type": "stream",
     "text": [
      "/home/sim/anaconda3/envs/cuda_118/lib/python3.10/site-packages/numpy/core/fromnumeric.py:3432: RuntimeWarning: Mean of empty slice.\n",
      "  return _methods._mean(a, axis=axis, dtype=dtype,\n",
      "/home/sim/anaconda3/envs/cuda_118/lib/python3.10/site-packages/numpy/core/_methods.py:190: RuntimeWarning: invalid value encountered in double_scalars\n",
      "  ret = ret.dtype.type(ret / rcount)\n"
     ]
    },
    {
     "name": "stdout",
     "output_type": "stream",
     "text": [
      "Get COM\n",
      "Get border values\n",
      "Do Crossvalidation\n",
      "Save file\n"
     ]
    }
   ],
   "source": [
    "save_name = random_masks[:-4] + '.npy'\n",
    "if save_name in os.listdir(save_path) and force_redo == False:\n",
    "    print('CSV for ' + random_masks + ' already exists.')\n",
    "else:\n",
    "    X = tifffile.imread(tif_path + random_masks[:-4] + '.tif')\n",
    "    Y = tifffile.imread(masks_path + random_masks)\n",
    "    index = Y.shape[0]\n",
    "    X = X[:index,:,:]\n",
    "\n",
    "    df = do_it(X, Y)\n"
   ]
  },
  {
   "cell_type": "code",
   "execution_count": 24,
   "metadata": {},
   "outputs": [
    {
     "name": "stdout",
     "output_type": "stream",
     "text": [
      "1\n",
      "2\n",
      "3\n",
      "5\n",
      "7\n",
      "8\n",
      "12\n",
      "13\n",
      "15\n",
      "16\n",
      "17\n",
      "20\n",
      "21\n",
      "22\n",
      "23\n",
      "25\n",
      "26\n",
      "27\n",
      "28\n",
      "29\n",
      "30\n",
      "31\n",
      "32\n",
      "33\n",
      "35\n",
      "37\n",
      "38\n",
      "39\n",
      "40\n",
      "41\n",
      "42\n",
      "43\n",
      "45\n",
      "46\n",
      "47\n",
      "48\n",
      "49\n",
      "51\n",
      "53\n",
      "54\n",
      "57\n",
      "58\n",
      "60\n",
      "62\n",
      "63\n",
      "64\n",
      "65\n",
      "66\n",
      "68\n",
      "69\n",
      "70\n",
      "72\n",
      "73\n",
      "74\n",
      "75\n",
      "76\n",
      "77\n"
     ]
    },
    {
     "name": "stderr",
     "output_type": "stream",
     "text": [
      "/home/sim/anaconda3/envs/cuda_118/lib/python3.10/site-packages/numpy/core/fromnumeric.py:3432: RuntimeWarning: Mean of empty slice.\n",
      "  return _methods._mean(a, axis=axis, dtype=dtype,\n",
      "/home/sim/anaconda3/envs/cuda_118/lib/python3.10/site-packages/numpy/core/_methods.py:190: RuntimeWarning: invalid value encountered in double_scalars\n",
      "  ret = ret.dtype.type(ret / rcount)\n"
     ]
    },
    {
     "name": "stdout",
     "output_type": "stream",
     "text": [
      "78\n",
      "80\n",
      "81\n",
      "82\n",
      "85\n",
      "88\n",
      "89\n",
      "90\n",
      "91\n",
      "92\n",
      "93\n",
      "95\n",
      "96\n",
      "97\n",
      "99\n",
      "100\n",
      "116\n",
      "117\n",
      "135\n",
      "157\n",
      "197\n",
      "198\n",
      "201\n",
      "205\n",
      "206\n",
      "207\n",
      "210\n"
     ]
    }
   ],
   "source": [
    "def filtered_masks(masks, common_cells):\n",
    "    \"\"\"Set all labels in masks not in common_cells to 0.\"\"\"\n",
    "    filter = np.isin(masks, common_cells)\n",
    "    masks[~filter] = 0\n",
    "    return masks\n",
    "\n",
    "def extract_border_values(flt_masks, cell_lbl):\n",
    "    def get_border_values(mask, cell_lbl):\n",
    "        padded_mask = np.pad(mask, 1, \"constant\", constant_values=0) # Wherever there are no neighboring cells, we \n",
    "                                                                        # want zeroes, also on edges of image\n",
    "        fltr = ndimage.binary_dilation(padded_mask==cell_lbl, structure=np.ones((3, 3)))\n",
    "        bv = padded_mask[fltr]\n",
    "        bv = bv[bv!=cell_lbl]\n",
    "        return bv\n",
    "\n",
    "    bv_count = 10\n",
    "    bv_final = []\n",
    "    for m in flt_masks:\n",
    "        if not np.any(m==cell_lbl):\n",
    "            continue\n",
    "        bv = get_border_values(m,cell_lbl)\n",
    "        if not np.any(bv==0):\n",
    "            return bv\n",
    "        q = len(bv[bv==0])/len(bv) # Check how much of the border is 0\n",
    "        if q<0.05: # We're satisfied if 95% of the border is nonzero\n",
    "            return bv\n",
    "        if q<bv_count:\n",
    "            bv_count = q\n",
    "            bv_final = bv\n",
    "    return bv_final\n",
    "\n",
    "def get_ncc_for_bv(d, c, max_dt):\n",
    "    bvs = np.array(d[c]['border_values'])\n",
    "    bvs = bvs[bvs!=0]\n",
    "    bvs_uniq = np.unique(bvs)\n",
    "    ncc = 0\n",
    "    dts = 0\n",
    "    for bv in bvs_uniq:\n",
    "        xcorr, dt = python_test.get_cc(np.array(d[c]['intensities']),\n",
    "                        np.array(d[bv]['intensities']), max_dt)\n",
    "        w = len(bvs[bvs==bv])/len(bvs[bvs!=0])\n",
    "        ncc += np.max(xcorr)*w\n",
    "        dts += dt[np.argmax(xcorr)]*w\n",
    "    return ncc, dts\n",
    "\n",
    "def get_max_freq(intensities, T):\n",
    "\n",
    "    fft = np.fft.fft(intensities)\n",
    "    freqs = np.fft.fftfreq(len(intensities), T)\n",
    "    fft_filtered = fft*(freqs>(3/(3600))) #Remove all periods longer than 20 min  \n",
    "        \n",
    "    return np.abs(freqs[np.argmax(fft_filtered)])\n",
    "\n",
    "def do_it2(X, masks, occurrence_limit=50, T=10, max_dt = 30):\n",
    "    \n",
    "    common_cells, counts = python_test.get_common_cells(masks, occurrence=occurrence_limit) # Get the cells to include in the intensity measurements\n",
    "    fltr_masks = filtered_masks(masks, common_cells)\n",
    "    d = {}\n",
    "\n",
    "    for c in common_cells:\n",
    "        print(c)\n",
    "        # get intensities\n",
    "        intensity = python_test.get_cell_intensities(c, masks, X, T=T)\n",
    "        \n",
    "        # get COMS\n",
    "        coms = []\n",
    "        for im in range(len(masks)):\n",
    "            if np.any(masks[im]==c):\n",
    "                coms.append(list(python_test.get_centers_of_mass(masks[im], c)[0]))\n",
    "                break\n",
    "        \n",
    "        # get border values\n",
    "        boarder_values = list(extract_border_values(fltr_masks, c))\n",
    "        d[c] = {'intensities': intensity, 'com': coms, 'border_values': boarder_values}\n",
    "    \n",
    "    # get cross correlation\n",
    "    for c in common_cells:\n",
    "        d[c]['Weighted max NCC for border values'], d[c]['Weighted time difference at max NCC for border values'] = get_ncc_for_bv(d, c, max_dt)\n",
    "\n",
    "        # get most prominent frequency\n",
    "        d[c]['Most prominent frequency'] = get_max_freq(d[c]['intensities'], T)\n",
    "\n",
    "    return d\n",
    "\n",
    "d = do_it2(X, Y)\n",
    "\n",
    "with open('dict_test.pkl', 'wb') as f:\n",
    "    pickle.dump(d, f)\n",
    "\n"
   ]
  },
  {
   "cell_type": "code",
   "execution_count": 25,
   "metadata": {},
   "outputs": [],
   "source": [
    "with open('dict_test.pkl', 'wb') as f:\n",
    "    pickle.dump(d, f)"
   ]
  }
 ],
 "metadata": {
  "kernelspec": {
   "display_name": "cuda_118",
   "language": "python",
   "name": "python3"
  },
  "language_info": {
   "codemirror_mode": {
    "name": "ipython",
    "version": 3
   },
   "file_extension": ".py",
   "mimetype": "text/x-python",
   "name": "python",
   "nbconvert_exporter": "python",
   "pygments_lexer": "ipython3",
   "version": "3.10.13"
  }
 },
 "nbformat": 4,
 "nbformat_minor": 2
}
