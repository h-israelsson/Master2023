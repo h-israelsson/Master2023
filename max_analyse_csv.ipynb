{
 "cells": [
  {
   "cell_type": "markdown",
   "metadata": {},
   "source": [
    "# Analysis\n",
    "\n",
    "This code takes the csv output from previous codes and the segmentations and prints the intensity profile on average over time of a single (random) image. It also compares all the different images in a boxplot. \n",
    "\n"
   ]
  },
  {
   "cell_type": "code",
   "execution_count": 1,
   "metadata": {},
   "outputs": [],
   "source": [
    "import pandas as pd\n",
    "import numpy as np\n",
    "import os\n",
    "import matplotlib.pyplot as plt\n",
    "import math\n",
    "import random\n",
    "import napari\n",
    "import tifffile\n",
    "#import napari_bleach_correct\n",
    "from tqdm import tqdm\n",
    "from skimage.measure import find_contours, perimeter\n",
    "import python_test\n"
   ]
  },
  {
   "cell_type": "code",
   "execution_count": 2,
   "metadata": {},
   "outputs": [],
   "source": [
    "viewer = napari.Viewer()"
   ]
  },
  {
   "cell_type": "code",
   "execution_count": 4,
   "metadata": {},
   "outputs": [],
   "source": [
    "HOME = '/home/sim/OneDrive/'\n",
    "csv_path = HOME + 'Data/by_projects/gcamp/csvs_new_trained_from_scratch/'\n",
    "masks_path = HOME + 'Data/by_projects/gcamp/masks_new_trained_scratch/'\n",
    "tif_path = HOME + 'Data/by_projects/gcamp/tif/'\n",
    "csv_random = os.listdir(csv_path)"
   ]
  },
  {
   "cell_type": "code",
   "execution_count": 7,
   "metadata": {},
   "outputs": [],
   "source": [
    "# individual cells\n",
    "def load_data_napari(xpath, ypath):\n",
    "    X = tifffile.imread(xpath)\n",
    "    Y = tifffile.imread(ypath)\n",
    "    X = X[:Y.shape[0],:,:]\n",
    "    viewer.add_image(X)\n",
    "    viewer.add_labels(Y, name='masks')\n",
    "    return X, Y\n",
    "\n",
    "def histogram_equalisation(X):\n",
    "    contrast_limits = napari.layers.utils.layer_utils.calc_data_range(X)\n",
    "    return napari_bleach_correct.modules.histogram_correct(X, contrast_limits)\n",
    "\n",
    "def expo_equalisation(X):\n",
    "    contrast_limits = napari.layers.utils.layer_utils.calc_data_range(X)\n",
    "    return napari_bleach_correct.modules.exponential_correct(X, contrast_limits)\n",
    "\n",
    "def expo_decay(t, I0, k, c):\n",
    "    return I0 * np.exp(-k * t) + c\n",
    "\n",
    "def intensity_over_time(X):\n",
    "    intensity = np.mean(X, axis=(1,2))\n",
    "    plt.plot([i for i in range(len(intensity))], intensity, '.')\n",
    "    plt.show()"
   ]
  },
  {
   "cell_type": "code",
   "execution_count": 10,
   "metadata": {},
   "outputs": [
    {
     "name": "stdout",
     "output_type": "stream",
     "text": [
      "Oua 200 nM 23 03 29_41_6.csv\n"
     ]
    }
   ],
   "source": [
    "random_id = random.randint(0, len(csv_random))\n",
    "f = csv_random[random_id]\n",
    "print(f)\n",
    "#X, Y = load_data_napari(tif_path + f[:-4] + '.tif', masks_path + f[:-4] + '.tif')\n",
    "#intensity_over_time(X)"
   ]
  },
  {
   "cell_type": "markdown",
   "metadata": {},
   "source": [
    "### How to select the 'good' cells from the image?\n",
    "\n",
    "There could be different indicators, such as:\n",
    "- size\n",
    "- amount of times it appears over time (tracking related)\n",
    "- "
   ]
  },
  {
   "cell_type": "code",
   "execution_count": 14,
   "metadata": {},
   "outputs": [
    {
     "name": "stderr",
     "output_type": "stream",
     "text": [
      "100%|██████████| 481/481 [02:57<00:00,  2.71it/s]\n"
     ]
    }
   ],
   "source": [
    "def plot_label_size_over_time(Y):\n",
    "    label_sizes = {}\n",
    "    \n",
    "    for l in tqdm(np.unique(Y)):\n",
    "        sizes = []\n",
    "        for t in range(Y.shape[0]):\n",
    "            sizes.append(np.sum(Y[t,:,:]==l))\n",
    "        label_sizes[l] = sizes\n",
    "    return label_sizes\n",
    "    # boxplot\n",
    "\n",
    "\n",
    "label_sizes = plot_label_size_over_time(Y)"
   ]
  },
  {
   "cell_type": "code",
   "execution_count": 85,
   "metadata": {},
   "outputs": [
    {
     "name": "stderr",
     "output_type": "stream",
     "text": [
      "100%|██████████| 481/481 [00:00<00:00, 2929.04it/s]\n",
      "100%|██████████| 78/78 [00:27<00:00,  2.82it/s]\n"
     ]
    }
   ],
   "source": [
    "def calculate_circumference(y):\n",
    "    circumferences = []\n",
    "    for t in range(y.shape[0]):\n",
    "        circumference = perimeter(y[t,:,:])\n",
    "        circumferences.append(circumference)\n",
    "    return circumferences        \n",
    "\n",
    "def filter_label_ids(label_sizes, lim_timepoints = 0.8, lim_size = 700, lim_circumference = 700): # 2500, 700\n",
    "    filter_list = []\n",
    "    all_labels = {}\n",
    "    # get the number of total timepoints\n",
    "    number_of_timepoints = len(label_sizes[0])\n",
    "    for label_id in tqdm(label_sizes.keys()):\n",
    "        # find the number of times the label is not present\n",
    "        timepoints = [i for i in range(len(label_sizes[label_id])) if label_sizes[label_id][i] > 0]\n",
    "        # calculate the std of the label size\n",
    "        size_std = np.std(label_sizes[label_id])\n",
    "        ## calculate the std of the circumference\n",
    "        #circumference_std = np.std(calculate_circumference(Y == label_id))\n",
    "        #print(circumference_std)\n",
    "        ## save all three to dict\n",
    "        all_labels[label_id] = [len(timepoints), size_std]#, circumference_std]\n",
    "        \n",
    "        # filter the label_ids\n",
    "        if len(timepoints) > number_of_timepoints * lim_timepoints and size_std < lim_size:# and circumference_std < lim_circumference:\n",
    "                filter_list.append(label_id)\n",
    "\n",
    "    return filter_list, all_labels\n",
    "\n",
    "filter_list, all_labels = filter_label_ids(label_sizes,\n",
    "                                           lim_timepoints = 0.9, \n",
    "                                           lim_size = 500)\n",
    "\n",
    "# overlay only specific labels of Y to napari from given filter list\n",
    "def overlay_label(Y, label_ids):\n",
    "    Y_overlay = np.zeros(Y.shape)\n",
    "    for l in tqdm(label_ids):\n",
    "        Y_overlay[Y==l] = l\n",
    "    Y_overlay = Y_overlay.astype(np.uint16)\n",
    "    viewer.add_labels(Y_overlay, name='overlay')\n",
    "    return Y_overlay\n",
    "\n",
    "Y_overlay = overlay_label(Y, filter_list)"
   ]
  },
  {
   "cell_type": "code",
   "execution_count": 89,
   "metadata": {},
   "outputs": [
    {
     "name": "stdout",
     "output_type": "stream",
     "text": [
      "label_id: 2, number of times label is present over time: 654, fluctuation: 244.540991849976\n"
     ]
    },
    {
     "data": {
      "image/png": "[encoded data removed]",
      "text/plain": [
       "<Figure size 640x480 with 1 Axes>"
      ]
     },
     "metadata": {},
     "output_type": "display_data"
    }
   ],
   "source": [
    "# present label id, number of times label is present over time and fluctuation is printed\n",
    "label_id = 2\n",
    "print(f\"label_id: {label_id}, number of times label is present over time: {all_labels[label_id][0]}, fluctuation: {all_labels[label_id][1]}\")\n",
    "# plot size over time\n",
    "plt.plot([i for i in range(len(label_sizes[label_id]))], label_sizes[label_id], '.')\n",
    "plt.show()"
   ]
  },
  {
   "cell_type": "code",
   "execution_count": 6,
   "metadata": {},
   "outputs": [],
   "source": [
    "def corr_selected(csv_path, cell_list = None):\n",
    "    '''\n",
    "    csv_path: path to csv file\n",
    "    cell_list: list of cell ids to select\n",
    "\n",
    "    Code to select correlation values from csv file\n",
    "    possible to select specific cells or all cells\n",
    "    '''    \n",
    "    csv = pd.read_csv(csv_path)\n",
    "    corr_all = csv.iloc[3]\n",
    "    \n",
    "    if cell_list != None:\n",
    "        corr = corr_all.to_dict()\n",
    "        corr = [corr[str(i)] for i in cell_list]  \n",
    "        corr = [float(i) for i in corr if not math.isnan(float(i))]\n",
    "        return corr\n",
    "      \n",
    "    else:\n",
    "        corr  = corr_all.tolist()[1:]\n",
    "        corr = [float(i) for i in corr if not math.isnan(float(i))]\n",
    "        return corr\n",
    "\n",
    "corr_select = corr_selected(csv_path + f)#, cell_list=cell_list)"
   ]
  },
  {
   "cell_type": "markdown",
   "metadata": {},
   "source": [
    "## Boxplot all conditions to compare"
   ]
  },
  {
   "cell_type": "code",
   "execution_count": 12,
   "metadata": {},
   "outputs": [
    {
     "data": {
      "image/png": "[encoded data removed]",
      "text/plain": [
       "<Figure size 640x480 with 1 Axes>"
      ]
     },
     "metadata": {},
     "output_type": "display_data"
    }
   ],
   "source": [
    "data = {}\n",
    "#csv_path = '/home/sim/OneDrive/Data/by_projects/gcamp/csvs_new_trained_from_scratch/'\n",
    "for f in os.listdir(csv_path):\n",
    "    csv = pd.read_csv(csv_path + f)\n",
    "    corr = csv.iloc[3].tolist()[1:]\n",
    "    corr = [float(i) for i in corr if not math.isnan(float(i))]\n",
    "    data[f] = corr\n",
    "\n",
    "\n",
    "# boxplot\n",
    "data = dict(sorted(data.items()))\n",
    "plt.boxplot(data.values(), labels=[i[:4] for i in data.keys()])\n",
    "plt.title('Box Plot')\n",
    "plt.ylabel('Correlation Value')\n",
    "plt.show()"
   ]
  },
  {
   "cell_type": "code",
   "execution_count": 15,
   "metadata": {},
   "outputs": [
    {
     "name": "stdout",
     "output_type": "stream",
     "text": [
      "                                          Unnamed: 0  \\\n",
      "0                                        Intensities   \n",
      "1                                     Center of mass   \n",
      "2                                      Border values   \n",
      "3                 Weighted max NCC for border values   \n",
      "4  Weighted time difference at max NCC for border...   \n",
      "5                           Most prominent frequency   \n",
      "\n",
      "                                                   2  \\\n",
      "0  [18545.95365602 21038.48793284 19733.78331638 ...   \n",
      "1              [13.70854788877446, 182.697219361483]   \n",
      "2  [0, 0, 0, 0, 0, 0, 0, 0, 0, 0, 0, 0, 0, 0, 0, ...   \n",
      "3                                 0.8561599047102271   \n",
      "4                                  9.249999999999998   \n",
      "5                              0.0010460251046025104   \n",
      "\n",
      "                                                   5  \\\n",
      "0  [26546.23475445 26480.52953586 25537.85714286 ...   \n",
      "1            [28.741500269832702, 377.1851052347545]   \n",
      "2  [0, 0, 0, 0, 0, 0, 0, 0, 0, 0, 0, 0, 0, 0, 0, ...   \n",
      "3                                  0.779840688996891   \n",
      "4                                                0.0   \n",
      "5                               0.000986252241482367   \n",
      "\n",
      "                                                   7  \\\n",
      "0  [12033.87242318 12062.16864511 11738.73030057 ...   \n",
      "1             [37.18436406067678, 40.00816802800467]   \n",
      "2  [0, 0, 0, 0, 0, 0, 0, 0, 0, 0, 0, 0, 0, 0, 0, ...   \n",
      "3                                                NaN   \n",
      "4                                              -30.0   \n",
      "5                              0.0014943215780035865   \n",
      "\n",
      "                                                  13  \\\n",
      "0  [10291.04817789 10244.21142857  9865.81277955 ...   \n",
      "1           [58.609017912291534, 340.61087090796786]   \n",
      "2  [0, 0, 0, 448, 448, 0, 0, 0, 0, 0, 0, 5, 5, 44...   \n",
      "3                                 0.8461156195680121   \n",
      "4                               -0.39593908629441626   \n",
      "5                               0.001524208009563658   \n",
      "\n",
      "                                                  19  \\\n",
      "0  [12646.28533333 12002.47422096 11610.98090388 ...   \n",
      "1            [73.02453333333334, 101.09226666666666]   \n",
      "2  [0, 0, 0, 0, 0, 0, 0, 0, 0, 0, 0, 0, 0, 0, 0, ...   \n",
      "3                                                NaN   \n",
      "4                                              -30.0   \n",
      "5                                                0.0   \n",
      "\n",
      "                                                  20  \\\n",
      "0  [17443.69843431 20184.40214477 15117.39446367 ...   \n",
      "1             [72.33696392103472, 226.6855003403676]   \n",
      "2  [2, 2, 708, 708, 2, 2, 2, 708, 708, 708, 2, 2,...   \n",
      "3                                  0.842539365991378   \n",
      "4                                  9.678756476683938   \n",
      "5                              0.0008368200836820084   \n",
      "\n",
      "                                                  21  \\\n",
      "0  [21019.21389029 20858.57941613 20682.47055913 ...   \n",
      "1             [77.62707599396074, 375.9431303472572]   \n",
      "2  [5, 5, 529, 529, 5, 5, 5, 529, 529, 529, 529, ...   \n",
      "3                                 0.6567226999734885   \n",
      "4                                                0.0   \n",
      "5                              0.0008965929468021519   \n",
      "\n",
      "                                                  25  \\\n",
      "0  [13108.72168285 13104.20991848 11462.69120801 ...   \n",
      "1             [96.77669902912622, 187.9663430420712]   \n",
      "2  [2, 2, 2, 2, 2, 2, 2, 2, 2, 2, 2, 2, 2, 2, 2, ...   \n",
      "3                                 0.9159099890195921   \n",
      "4                                -1.2619047619047612   \n",
      "5                              0.0010759115361625821   \n",
      "\n",
      "                                                  26  ...  \\\n",
      "0  [9293.22285354 9271.19246862 9424.21266667 ......  ...   \n",
      "1            [104.18118686868686, 305.2058080808081]  ...   \n",
      "2  [13, 13, 13, 13, 13, 13, 13, 13, 13, 13, 13, 1...  ...   \n",
      "3                                 0.8963131582637535  ...   \n",
      "4                                0.25149700598802394  ...   \n",
      "5                              0.0018828451882845188  ...   \n",
      "\n",
      "                                                 393  \\\n",
      "0  [8400.42523364 8433.4376947  8368.51869159 ......   \n",
      "1            [12.017133956386292, 349.3847352024922]   \n",
      "2  [0, 0, 0, 0, 0, 0, 0, 0, 0, 0, 0, 0, 13, 0, 0,...   \n",
      "3                                 0.7446965833006196   \n",
      "4                                                0.0   \n",
      "5                              0.0017931858936043037   \n",
      "\n",
      "                                                 407  \\\n",
      "0  [14482.00896861 14116.46038864 13454.47234679 ...   \n",
      "1              [208.3273542600897, 43.7219730941704]   \n",
      "2  [42, 42, 42, 39, 39, 39, 42, 42, 42, 39, 39, 3...   \n",
      "3                                                NaN   \n",
      "4                                -29.999999999999996   \n",
      "5                                                0.0   \n",
      "\n",
      "                                                 448  \\\n",
      "0  [8285.04408818 8300.48997996 8040.03406814 ......   \n",
      "1            [62.90280561122245, 308.05110220440883]   \n",
      "2  [609, 609, 609, 393, 393, 393, 393, 609, 609, ...   \n",
      "3                                  0.803269429435809   \n",
      "4                                 -4.967741935483871   \n",
      "5                               0.001763299462044232   \n",
      "\n",
      "                                                 458  \\\n",
      "0  [20427.8        20219.98888889 19528.39206349 ...   \n",
      "1             [304.4888888888889, 163.6174603174603]   \n",
      "2  [64, 64, 64, 64, 66, 66, 66, 64, 64, 64, 66, 6...   \n",
      "3                                                NaN   \n",
      "4                                  -2.71304347826087   \n",
      "5                              0.0016138673042438733   \n",
      "\n",
      "                                                 524  \\\n",
      "0  [16344.94789227 15402.52459016 14326.03805621 ...   \n",
      "1           [247.38348946135832, 361.73770491803276]   \n",
      "2  [45, 45, 45, 45, 45, 45, 45, 45, 45, 45, 45, 4...   \n",
      "3                                                NaN   \n",
      "4                                              -30.0   \n",
      "5                                                0.0   \n",
      "\n",
      "                                                 529  \\\n",
      "0  [26394.91874181 26979.50065531 24903.8768021  ...   \n",
      "1            [13.631716906946265, 397.9449541284404]   \n",
      "2  [0, 0, 0, 0, 0, 0, 0, 0, 0, 0, 0, 0, 0, 0, 0, ...   \n",
      "3                                   0.80577890969164   \n",
      "4                                                0.0   \n",
      "5                               0.001524208009563658   \n",
      "\n",
      "                                                 545  \\\n",
      "0  [17371.37439614 17239.23429952 17544.54589372 ...   \n",
      "1            [258.53743961352654, 92.92028985507247]   \n",
      "2  [48, 48, 48, 51, 48, 48, 48, 48, 51, 51, 48, 0...   \n",
      "3                                                NaN   \n",
      "4                                -2.1524663677130036   \n",
      "5                              0.0016138673042438733   \n",
      "\n",
      "                                                 581  \\\n",
      "0  [18630.12663755 19117.0349345  18469.65938865 ...   \n",
      "1           [311.30676855895194, 179.37008733624455]   \n",
      "2  [66, 66, 62, 62, 66, 66, 66, 62, 62, 62, 66, 6...   \n",
      "3                                 0.9170107901352945   \n",
      "4                                -0.6296296296296297   \n",
      "5                               0.001643753735803945   \n",
      "\n",
      "                                                 609  \\\n",
      "0  [7617.10791367 7664.07314149 7328.87529976 ......   \n",
      "1            [25.851318944844124, 296.3021582733813]   \n",
      "2  [0, 0, 0, 0, 0, 0, 0, 0, 0, 0, 0, 0, 0, 0, 0, ...   \n",
      "3                                 0.7017490985709337   \n",
      "4                                                0.0   \n",
      "5                              0.0020920502092050207   \n",
      "\n",
      "                                                 708  \n",
      "0  [9235.01078838 9653.38008299 8751.9219917  ......  \n",
      "1             [47.07634854771784, 244.4232365145228]  \n",
      "2  [0, 0, 0, 0, 0, 0, 0, 0, 0, 0, 0, 0, 0, 0, 0, ...  \n",
      "3                                 0.7431150075136762  \n",
      "4                                  3.931914893617021  \n",
      "5                               0.000986252241482367  \n",
      "\n",
      "[6 rows x 80 columns]\n"
     ]
    }
   ],
   "source": [
    "print(csv)"
   ]
  },
  {
   "cell_type": "code",
   "execution_count": 18,
   "metadata": {},
   "outputs": [
    {
     "name": "stdout",
     "output_type": "stream",
     "text": [
      "['Intensities', '[18545.95365602 21038.48793284 19733.78331638 ... 11072.72598162\\n 11122.16374269 11133.34502924]', '[26546.23475445 26480.52953586 25537.85714286 ... 12940.94093178\\n 12786.57213115 12816.02852486]', '[12033.87242318 12062.16864511 11738.73030057 ...  9144.4648847\\n  9015.34588859  8893.08544304]', '[10291.04817789 10244.21142857  9865.81277955 ... 15342.51885925\\n 15220.58592322 15222.76645042]', '[12646.28533333 12002.47422096 11610.98090388 ... 10409.35824916\\n 10296.89361702 10282.83814641]', '[17443.69843431 20184.40214477 15117.39446367 ... 11545.81863665\\n 11514.84479495 11605.84918648]', '[21019.21389029 20858.57941613 20682.47055913 ... 16536.68320831\\n 16482.56732394 16384.85395764]', '[13108.72168285 13104.20991848 11462.69120801 ... 15831.54128993\\n 15896.78355502 15928.0175219 ]', '[9293.22285354 9271.19246862 9424.21266667 ... 9924.86030429 9972.4868603\\n 9904.97786999]', '[12470.05424528 12100.76671975 12043.62168309 ... 18095.92516411\\n 18008.62840809 18040.30313589]', '[9574.25134008 9800.85993884 9475.31285624 ... 8611.22240803 8663.36418733\\n 8667.38525499]', '[10511.9065449  10645.18316979 10439.84320047 ...  8787.91293532\\n  8781.61754177  8751.79835651]', '[8115.74389098 8158.84019056 7789.66789159 ... 8276.61321287 8377.29785056\\n 8341.12775842]', '[10111.31044617  9661.343405    9253.15102828 ... 12514.72763508\\n 12438.82358196 12579.68687309]', '[14308.07387209 14283.73279544 13126.90594059 ... 14807.9243807\\n 14719.13946015 14771.97203274]', '[10591.82137405 10259.05900151 10084.14644756 ...  9756.27380952\\n  9900.18270799 10092.36335161]', '[13799.49069374 13615.77915194 13434.6507799  ... 12848.80752533\\n 12843.78900446 12769.20982143]', '[10133.44884684 10345.21790541 10235.89808917 ... 14187.81991996\\n 14124.96754386 14611.90117545]', '[10743.19885057 10041.25263158  9802.38698225 ... 14667.62221321\\n 14584.37642276 14743.18152218]', '[18080.88305489 18134.86814024 17729.37124803 ... 18964.72210815\\n 19002.64246947 19262.92130258]', '[13146.33377601 12724.13875387 12102.76625659 ... 12035.70299145\\n 12028.69725738 11880.29107055]', '[14275.22831633 13634.82461677 13202.81351583 ... 13183.51908832\\n 13087.60297483 13020.19559229]', '[18784.41900937 18647.5837469  17892.83692487 ... 18166.69170984\\n 18286.45963542 18666.02803738]', '[16069.45039086 14727.03997421 14108.40220923 ... 18077.13510101\\n 17994.4040404  18083.69949495]', '[15496.65378056 14604.30391584 15048.75752315 ... 16182.16349384\\n 16021.84275714 16087.59577922]', '[15473.90904739 15478.48462598 15576.64576659 ... 13843.20083682\\n 13772.49286988 13904.18811075]', '[11061.1378751  10730.26040816 10483.3322884  ... 11574.79591837\\n 11576.51615272 11696.82661871]', '[12655.80760369 12328.11915888 12072.04555809 ... 18565.69863014\\n 18498.04483074 18568.67153285]', '[14442.42742743 14639.09895052 14046.45941807 ... 14227.13704631\\n 13680.40769779 13904.47632794]', '[12798.9795022  12175.34626301 12035.77675277 ... 16201.91544118\\n 15125.47223418 15097.16139907]', '[14410.2324159  14314.00434153 14697.27266135 ... 17957.03658067\\n 17589.09414955 17817.10629763]', '[12132.6874614  11911.46216898 11803.79692505 ... 16690.86906019\\n 16723.91468683 16801.46278317]', '[16977.64671533 16492.40830946 16307.24050633 ... 27093.94554455\\n 26898.02722772 27117.75247525]', '[14709.27053455 14309.35885788 14297.72626788 ... 18595.4650913\\n 16228.05370569 16141.12459721]', '[12853.41991701 12789.94495413 12455.77644024 ... 22106.05578947\\n 21878.8566879  22126.21354167]', '[15795.82965578 15686.68717728 16623.77653862 ... 17556.14747356\\n 17563.14277251 17616.18650089]', '[20628.16228677 20602.54020333 20413.10885276 ... 26225.02555249\\n 26224.69802632 26365.67139959]', '[16201.18723404 16045.48966705 17956.82753825 ... 11203.66021921\\n 11175.0585677  11066.82535576]', '[19769.69145466 19432.32183908 19429.03638814 ... 18846.80434783\\n 18564.44532374 18823.65799257]', '[20672.75628931 20890.75469832 19861.6644433  ... 26505.79006772\\n 26288.1793722  26198.73131868]', '[21244.38633377 20269.80851064 19522.1331058  ... 23723.62755102\\n 23870.17835671 24269.77333333]', '[18205.09325797 18084.88357197 19387.90446359 ... 15851.95047259\\n 15869.38676749 16314.93385595]', '[20668.34942529 20262.63584799 20126.14933178 ... 32298.33118141\\n 32215.2803677  32412.12427184]', '[29026.21052632 27929.14409449 27080.38707103 ... 30797.25526451\\n 30722.85593641 32035.90580069]', '[57934.46946779 57540.21217197 57176.41394826 ...  2946.63058824\\n  2942.46588235  2954.92156863]', '[18472.21407334 18214.79245283 17424.44069264 ... 14309.96535245\\n 14161.2372549  14220.55410999]', '[21590.89877689 22381.64941785 21657.3373494  ... 32384.60714286\\n 32093.20887446 32325.92261905]', '[37351.54778887 37006.37367304 37773.62319885 ... 26035.52222222\\n 26200.52777778 26230.59444444]', '[26530.6464497  26640.16418651 26119.20987013 ... 30209.71983847\\n 30157.98687532 30302.06208985]', '[16290.74660633 16025.55421687 16060.01191658 ... 27922.309439\\n 27891.6460374  27825.70525378]', '[9707.57062465 9112.32425743 8993.47821682 ... 6981.94528236 6934.22706819\\n 6882.48481815]', '[28007.13978495 27384.73654066 27145.14269788 ... 27288.90751445\\n 24271.79861111 24109.07283237]', '[12258.49133718 12804.42294187 11288.008      ...  7001.20099432\\n  7004.39559659  6999.546875  ]', '[25335.23219512 24937.39790076 24194.2413452  ... 31491.74442191\\n 31601.56260297 31695.03055672]', '[10328.78821879 10171.09630147  9881.35088919 ... 11625.38423237\\n 11616.94117647 11633.64932886]', '[18024.84273319 17871.0349345  17641.94633078 ... 32340.87569721\\n 31885.02868526 31969.73646497]', '[13369.69927243 13052.12283594 13322.25298126 ... 28050.9393718\\n 28355.80098187 27981.94034091]', '[18538.27155963 17593.87462387 17641.65904762 ... 28970.91674734\\n 29299.18889884 29210.08715184]', '[10079.8924581   9729.48735119  9752.5284006  ... 17710.43243243\\n 17896.93508287 17612.78183119]', '[ 9241.14645053  9186.30640508  9076.47808535 ... 19024.96428571\\n 18908.88801149 19280.55752212]', '[ 8768.08222997  8758.72210953  8699.04851557 ... 15664.92255892\\n 15791.00243902 15709.28853565]', '[16490.91873016 15768.67827869 16325.90819672 ... 14658.03860578\\n 15017.08382154 14750.57101977]', '[19303.62518854 19418.45461847 19488.46533865 ... 25027.95437053\\n 25134.28644068 25036.04269294]', '[ 9920.69386282 10271.49008499 10133.13227092 ... 14080.52027257\\n 14433.44177632 14197.05910489]', '[ 7678.01215395  7718.97268488  7724.78679505 ... 12148.55530973\\n 12107.25663717 12039.46902655]', '[ 8478.73715249  8741.57708509  8723.96376812 ... 11565.34248079\\n 11632.74751564 11630.2997416 ]', '[24271.87391304 24110.27173913 24709.71521739 ... 17262.27793594\\n 17303.74502965 17256.48179872]', '[34942.14076246 33323.22727273 32425.76686217 ... 29368.48881789\\n 29677.71757322 29688.59066808]', '[13973.88779804 14070.82889201 13253.20897616 ... 15260.48602151\\n 15302.22386953 15219.6401487 ]', '[8400.42523364 8433.4376947  8368.51869159 ... 6719.87676508 6707.02877698\\n 6715.58812137]', '[14482.00896861 14116.46038864 13454.47234679 ... 13492.59818182\\n 12998.47174447 13564.64540338]', '[8285.04408818 8300.48997996 8040.03406814 ... 9124.11822126 9029.13390929\\n 9159.85287846]', '[20427.8        20219.98888889 19528.39206349 ... 12041.86359584\\n 12014.13784908 12044.99191617]', '[16344.94789227 15402.52459016 14326.03805621 ... 27717.0023015\\n 27453.07309942 27849.20955671]', '[26394.91874181 26979.50065531 24903.8768021  ... 17392.14446367\\n 17270.52429668 17417.10068259]', '[17371.37439614 17239.23429952 17544.54589372 ... 11119.84069887\\n 10952.74351585 10375.74017322]', '[18630.12663755 19117.0349345  18469.65938865 ... 21319.65241058\\n 21587.9887468  21306.23054332]', '[7617.10791367 7664.07314149 7328.87529976 ... 6816.00754401 6718.42663274\\n 6707.98207009]', '[9235.01078838 9653.38008299 8751.9219917  ... 6602.95242567 6580.95723788\\n 6599.18584635]']\n"
     ]
    }
   ],
   "source": [
    "print(csv.iloc[0].tolist())"
   ]
  },
  {
   "cell_type": "code",
   "execution_count": null,
   "metadata": {},
   "outputs": [],
   "source": []
  }
 ],
 "metadata": {
  "kernelspec": {
   "display_name": "cuda_118",
   "language": "python",
   "name": "python3"
  },
  "language_info": {
   "codemirror_mode": {
    "name": "ipython",
    "version": 3
   },
   "file_extension": ".py",
   "mimetype": "text/x-python",
   "name": "python",
   "nbconvert_exporter": "python",
   "pygments_lexer": "ipython3",
   "version": "3.10.13"
  }
 },
 "nbformat": 4,
 "nbformat_minor": 2
}
