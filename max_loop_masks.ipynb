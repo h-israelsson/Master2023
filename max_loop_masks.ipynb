{
 "cells": [
  {
   "cell_type": "code",
   "execution_count": 14,
   "metadata": {},
   "outputs": [],
   "source": [
    "import tifffile\n",
    "import python_test\n",
    "import pandas as pd\n",
    "import napari\n",
    "import numpy as np\n",
    "import skimage\n",
    "from scipy import ndimage\n",
    "from cellpose import models\n",
    "import os\n",
    "import matplotlib.pyplot as plt"
   ]
  },
  {
   "cell_type": "code",
   "execution_count": 15,
   "metadata": {},
   "outputs": [],
   "source": [
    "tifs = '/home/sim/OneDrive/Data/by_projects/gcamp/tif/'\n",
    "filelist = os.listdir(tifs)\n",
    "\n",
    "model_path = \"./for-the-report-cyto2\"\n",
    "\n",
    "save_path = '/home/sim/OneDrive/Data/by_projects/gcamp/masks/'\n",
    "\n",
    "occurrence_limit = 50   # Percentage of images a cell has to be in order to be accounted for\n",
    "\n",
    "T = 10 # Period between images (seconds)\n",
    "max_dt = 30     # Maximum time shift allowed for the correlation calculations (time steps)\n"
   ]
  },
  {
   "cell_type": "code",
   "execution_count": 38,
   "metadata": {},
   "outputs": [],
   "source": [
    "\n",
    "def segm_track(xpath, tifs, model_path):\n",
    "\n",
    "    X = tifffile.imread(tifs + xpath)\n",
    "    mean = np.mean(X, axis=(1,2))\n",
    "    crop = list(np.where(mean == 0))\n",
    "    print(crop)\n",
    "    if len(crop[0])>0:\n",
    "        X=X[:crop[0][0],:,:]\n",
    "    else:\n",
    "        X = X\n",
    "\n",
    "    # get diam\n",
    "    diam = xpath[-8:-4].split('_')\n",
    "    diam = float(diam[0] + '.' + diam[1])\n",
    "    \n",
    "    dist_limit = diam / 2    # Slightly less than half average diameter\n",
    "\n",
    "    masks = python_test.get_segmentation([np.squeeze(i) for i in np.split(X, X.shape[0])],model_path, diam=diam)\n",
    "\n",
    "    return masks"
   ]
  },
  {
   "cell_type": "code",
   "execution_count": 43,
   "metadata": {},
   "outputs": [
    {
     "name": "stdout",
     "output_type": "stream",
     "text": [
      "2 APB 2023 03 08_46_7.tif\n",
      "[array([563, 568, 578, 582, 586, 591, 592, 594, 595, 598, 599])]\n",
      "(563, 512, 512)\n",
      "___________________________\n",
      "ctl 2023 03 28_43_5.tif\n",
      "[array([3345])]\n",
      "(3345, 512, 512)\n",
      "___________________________\n",
      "Oua 200 nM 03 03_42_9.tif\n",
      "[array([3337, 3339, 3343, 3346, 3348, 3350, 3352, 3353, 3354, 3356, 3358])]\n",
      "(3337, 512, 512)\n",
      "___________________________\n",
      "ctl 2023 03 09_35_1.tif\n",
      "[array([3345])]\n",
      "(3345, 512, 512)\n",
      "___________________________\n",
      "2APB + OUA_41_7.tif\n",
      "[array([3355])]\n",
      "(3355, 512, 512)\n",
      "___________________________\n",
      "2 APB + OUA 10 overnight 1 30 03 23_42_9.tif\n",
      "[array([], dtype=int64)]\n",
      "(3361, 512, 512)\n",
      "___________________________\n",
      "2 APB Oua 10 nM 23 03 04_34_9.tif\n",
      "[array([3328, 3354])]\n",
      "(3328, 512, 512)\n",
      "___________________________\n",
      "oua 10 nM overnight 1_48_6.tif\n",
      "[array([3328, 3330, 3332, 3333, 3340, 3349, 3351, 3353, 3356, 3357, 3358,\n",
      "       3359])]\n",
      "(3328, 512, 512)\n",
      "___________________________\n",
      "ctl 2023 03 05_44_3.tif\n",
      "[array([3346, 3353])]\n",
      "(3346, 512, 512)\n",
      "___________________________\n",
      "Oua 10 nM_43_0.tif\n",
      "[array([3329, 3330, 3333, 3334, 3346, 3347, 3348, 3349, 3350, 3353, 3354])]\n",
      "(3329, 512, 512)\n",
      "___________________________\n",
      "2 APB 2023 03 07_45_1.tif\n",
      "[array([538, 543, 561, 566, 573, 577, 580, 590, 592, 596, 597])]\n",
      "(538, 512, 512)\n",
      "___________________________\n",
      "ctl 2023 04 05_39_1.tif\n",
      "[array([], dtype=int64)]\n",
      "(3361, 512, 512)\n",
      "___________________________\n",
      "oua 200 nM 23 03 29_41_6.tif\n",
      "[array([3256])]\n",
      "(3256, 512, 512)\n",
      "___________________________\n"
     ]
    }
   ],
   "source": [
    "\n",
    "for f in filelist:\n",
    "    if f.startswith('.tif'):\n",
    "        continue\n",
    "    else:\n",
    "        print(f)\n",
    "        masks = segm_track(f, tifs, model_path)\n",
    "        print(masks.shape)\n",
    "        tifffile.imwrite(save_path + f, masks, imagej=True, metadata={'axes':'TYX'})\n",
    "        print('___________________________')"
   ]
  },
  {
   "cell_type": "code",
   "execution_count": null,
   "metadata": {},
   "outputs": [],
   "source": []
  }
 ],
 "metadata": {
  "kernelspec": {
   "display_name": "cuda_118",
   "language": "python",
   "name": "python3"
  },
  "language_info": {
   "codemirror_mode": {
    "name": "ipython",
    "version": 3
   },
   "file_extension": ".py",
   "mimetype": "text/x-python",
   "name": "python",
   "nbconvert_exporter": "python",
   "pygments_lexer": "ipython3",
   "version": "3.10.13"
  }
 },
 "nbformat": 4,
 "nbformat_minor": 2
}
