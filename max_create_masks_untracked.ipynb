{
 "cells": [
  {
   "cell_type": "markdown",
   "metadata": {},
   "source": [
    "## Do segmentation on raw data without tracking them"
   ]
  },
  {
   "cell_type": "code",
   "execution_count": 1,
   "metadata": {},
   "outputs": [],
   "source": [
    "import tifffile\n",
    "import python_test\n",
    "import pandas as pd\n",
    "import napari\n",
    "import numpy as np\n",
    "import skimage\n",
    "from scipy import ndimage\n",
    "from cellpose import models\n",
    "import matplotlib.pyplot as plt\n",
    "import os\n",
    "from tqdm import tqdm"
   ]
  },
  {
   "cell_type": "code",
   "execution_count": 3,
   "metadata": {},
   "outputs": [],
   "source": [
    "viewer = napari.Viewer()"
   ]
  },
  {
   "cell_type": "code",
   "execution_count": 2,
   "metadata": {},
   "outputs": [],
   "source": [
    "raw_path = '/home/sim/OneDrive/Data/by_projects/gcamp/tif/'\n",
    "images = os.listdir(raw_path)\n",
    "model_path = '/home/sim/OneDrive/Data/by_projects/gcamp/d/train_data/cellpose/models/cellpose_residual_on_style_on_concatenation_off_cellpose_2023_11_30_15_15_43.973221'\n",
    "\n",
    "save_path = '/home/sim/OneDrive/Data/by_projects/gcamp/masks_untracked/'\n",
    "occurrence_limit = 50   # Percentage of images a cell has to be in order to be accounted for\n",
    "\n",
    "T = 10 # Period between images (seconds)\n",
    "max_dt = 30     # Maximum time shift allowed for the correlation calculations (time steps)\n",
    "\n",
    "# If generating new masks\n",
    "diam = 30   # standard setting when trained\n",
    "dist_limit = diam / 2    # Slightly less than half average diameter\n",
    "backtrack_limit = 15"
   ]
  },
  {
   "cell_type": "code",
   "execution_count": 4,
   "metadata": {},
   "outputs": [],
   "source": [
    "def track_Y(X, model, diam=30, tracking = False):\n",
    "    \n",
    "    # remove empty images\n",
    "    mean = np.mean(X, axis=(1,2))\n",
    "\n",
    "    crop = list(np.where(mean == 0))\n",
    "    if len(crop[0])>0:\n",
    "        X=X[:crop[0][0],:,:]\n",
    "    else:\n",
    "        X = X\n",
    "\n",
    "    X = [np.squeeze(i) for i in np.split(X, X.shape[0])]\n",
    "    # predict labels on model\n",
    "    Y = []\n",
    "    for x in tqdm(X, desc = 'Segmenting timeseries', unit = 't'):\n",
    "        \n",
    "        y, flows, styles = model.eval(x,\n",
    "                                   diameter=diam, channels=[0,0],\n",
    "                                      flow_threshold=0.4, do_3D=False)\n",
    "        Y.append(y)\n",
    "    print('Track masks over time')\n",
    "    if tracking == True:\n",
    "        Y = python_test.get_tracked_masks(masks = np.array(Y))\n",
    "        return Y\n",
    "    else:\n",
    "        return np.array(Y)\n",
    "    \n",
    "    \n",
    "    \n",
    "    "
   ]
  },
  {
   "cell_type": "code",
   "execution_count": 6,
   "metadata": {},
   "outputs": [
    {
     "name": "stdout",
     "output_type": "stream",
     "text": [
      "Image name: Oua 10 nM overnight 1_48_6.tif\n"
     ]
    },
    {
     "name": "stderr",
     "output_type": "stream",
     "text": [
      "Segmenting timeseries: 100%|██████████| 3328/3328 [15:04<00:00,  3.68t/s]\n"
     ]
    },
    {
     "name": "stdout",
     "output_type": "stream",
     "text": [
      "Track masks over time\n",
      "Masks saved.\n",
      "Image name: Oua 200 nM 23 03 29_41_6.tif\n"
     ]
    },
    {
     "name": "stderr",
     "output_type": "stream",
     "text": [
      "Segmenting timeseries: 100%|██████████| 3256/3256 [13:40<00:00,  3.97t/s]\n"
     ]
    },
    {
     "name": "stdout",
     "output_type": "stream",
     "text": [
      "Track masks over time\n",
      "Masks saved.\n",
      "Image name: 2 APB 2023 03 08_46_7.tif\n"
     ]
    },
    {
     "name": "stderr",
     "output_type": "stream",
     "text": [
      "Segmenting timeseries: 100%|██████████| 563/563 [02:36<00:00,  3.59t/s]\n"
     ]
    },
    {
     "name": "stdout",
     "output_type": "stream",
     "text": [
      "Track masks over time\n",
      "Masks saved.\n",
      "Image name: ctl 2023 03 28_43_5.tif\n"
     ]
    },
    {
     "name": "stderr",
     "output_type": "stream",
     "text": [
      "Segmenting timeseries: 100%|██████████| 3345/3345 [18:03<00:00,  3.09t/s]\n"
     ]
    },
    {
     "name": "stdout",
     "output_type": "stream",
     "text": [
      "Track masks over time\n",
      "Masks saved.\n",
      "Image name: Oua 200 nM 03 03_42_9.tif\n"
     ]
    },
    {
     "name": "stderr",
     "output_type": "stream",
     "text": [
      "Segmenting timeseries: 100%|██████████| 3337/3337 [13:24<00:00,  4.15t/s]\n"
     ]
    },
    {
     "name": "stdout",
     "output_type": "stream",
     "text": [
      "Track masks over time\n",
      "Masks saved.\n",
      "Image name: ctl 2023 03 09_35_1.tif\n"
     ]
    },
    {
     "name": "stderr",
     "output_type": "stream",
     "text": [
      "Segmenting timeseries: 100%|██████████| 3345/3345 [14:07<00:00,  3.95t/s]\n"
     ]
    },
    {
     "name": "stdout",
     "output_type": "stream",
     "text": [
      "Track masks over time\n",
      "Masks saved.\n",
      "Image name: 2APB + OUA_41_7.tif\n"
     ]
    },
    {
     "name": "stderr",
     "output_type": "stream",
     "text": [
      "Segmenting timeseries: 100%|██████████| 3355/3355 [14:15<00:00,  3.92t/s]\n"
     ]
    },
    {
     "name": "stdout",
     "output_type": "stream",
     "text": [
      "Track masks over time\n",
      "Masks saved.\n",
      "Image name: 2 APB + OUA 10 overnight 1 30 03 23_42_9.tif\n"
     ]
    },
    {
     "name": "stderr",
     "output_type": "stream",
     "text": [
      "Segmenting timeseries: 100%|██████████| 3361/3361 [15:46<00:00,  3.55t/s]\n"
     ]
    },
    {
     "name": "stdout",
     "output_type": "stream",
     "text": [
      "Track masks over time\n",
      "Masks saved.\n",
      "Image name: 2 APB Oua 10 nM 23 03 04_34_9.tif\n"
     ]
    },
    {
     "name": "stderr",
     "output_type": "stream",
     "text": [
      "Segmenting timeseries: 100%|██████████| 3328/3328 [14:58<00:00,  3.71t/s]\n"
     ]
    },
    {
     "name": "stdout",
     "output_type": "stream",
     "text": [
      "Track masks over time\n",
      "Masks saved.\n",
      "Image name: ctl 2023 03 05_44_3.tif\n"
     ]
    },
    {
     "name": "stderr",
     "output_type": "stream",
     "text": [
      "Segmenting timeseries: 100%|██████████| 3346/3346 [15:14<00:00,  3.66t/s]\n"
     ]
    },
    {
     "name": "stdout",
     "output_type": "stream",
     "text": [
      "Track masks over time\n",
      "Masks saved.\n",
      "Image name: Oua 10 nM_43_0.tif\n"
     ]
    },
    {
     "name": "stderr",
     "output_type": "stream",
     "text": [
      "Segmenting timeseries: 100%|██████████| 3329/3329 [15:48<00:00,  3.51t/s]\n"
     ]
    },
    {
     "name": "stdout",
     "output_type": "stream",
     "text": [
      "Track masks over time\n",
      "Masks saved.\n",
      "Image name: .tif\n"
     ]
    },
    {
     "name": "stderr",
     "output_type": "stream",
     "text": [
      "Segmenting timeseries: 100%|██████████| 3278/3278 [13:44<00:00,  3.98t/s]\n"
     ]
    },
    {
     "name": "stdout",
     "output_type": "stream",
     "text": [
      "Track masks over time\n",
      "Masks saved.\n",
      "Image name: 2 APB 2023 03 07_45_1.tif\n"
     ]
    },
    {
     "name": "stderr",
     "output_type": "stream",
     "text": [
      "Segmenting timeseries: 100%|██████████| 538/538 [02:17<00:00,  3.93t/s]\n"
     ]
    },
    {
     "name": "stdout",
     "output_type": "stream",
     "text": [
      "Track masks over time\n",
      "Masks saved.\n",
      "Image name: ctl 2023 04 05_39_1.tif\n"
     ]
    },
    {
     "name": "stderr",
     "output_type": "stream",
     "text": [
      "Segmenting timeseries: 100%|██████████| 3361/3361 [16:30<00:00,  3.39t/s]\n"
     ]
    },
    {
     "name": "stdout",
     "output_type": "stream",
     "text": [
      "Track masks over time\n",
      "Masks saved.\n"
     ]
    }
   ],
   "source": [
    "force_redo = True\n",
    "\n",
    "for i in range(len(images)):\n",
    "    print('Image name: ' + images[i])\n",
    "    if images[i] in os.listdir(save_path) and force_redo == False:\n",
    "        print('Segmentation for ' + images[i] + ' already exists.')\n",
    "        continue\n",
    "    else:\n",
    "        X = tifffile.imread(raw_path + images[i])\n",
    "        X = X[:,:,:]\n",
    "        # load model\n",
    "        model = models.CellposeModel(gpu = True, pretrained_model=model_path)\n",
    "        Y = track_Y(X, model)\n",
    "        tifffile.imwvisurite(save_path + images[i], Y, imagej=True, metadata={'axes':'TYX'})\n",
    "        print('Masks saved.')\n",
    "\n",
    "\n"
   ]
  },
  {
   "cell_type": "code",
   "execution_count": null,
   "metadata": {},
   "outputs": [],
   "source": []
  }
 ],
 "metadata": {
  "kernelspec": {
   "display_name": "cuda_118",
   "language": "python",
   "name": "python3"
  },
  "language_info": {
   "codemirror_mode": {
    "name": "ipython",
    "version": 3
   },
   "file_extension": ".py",
   "mimetype": "text/x-python",
   "name": "python",
   "nbconvert_exporter": "python",
   "pygments_lexer": "ipython3",
   "version": "3.10.13"
  }
 },
 "nbformat": 4,
 "nbformat_minor": 2
}
