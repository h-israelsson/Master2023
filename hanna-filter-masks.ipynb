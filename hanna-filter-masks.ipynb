{
 "cells": [
  {
   "cell_type": "code",
   "execution_count": 223,
   "metadata": {},
   "outputs": [],
   "source": [
    "import tifffile\n",
    "import python_test as pt\n",
    "import numpy as np\n",
    "import os\n",
    "import matplotlib.pyplot as plt\n",
    "import pandas as pd\n",
    "import os\n",
    "import pickle"
   ]
  },
  {
   "cell_type": "code",
   "execution_count": 226,
   "metadata": {},
   "outputs": [],
   "source": [
    "def filter_masks(masks):\n",
    "    # REMOVE CELLS THAT ARE NOT PRESENT IN AT LEAST 50% OF THE IMAGES\n",
    "    labels, counts = pt.get_common_cells(masks, occurrence=50)\n",
    "    masks[~np.isin(masks, labels)] = 0\n",
    "\n",
    "    # REMOVE CELLS ON BORDER\n",
    "    dimensions = masks.shape[1:]\n",
    "    new_labels = []\n",
    "    for lbl in labels:\n",
    "        poss = np.array(np.where(masks == lbl)[1:])\n",
    "        if 0 in poss or dimensions[0]-1 in poss: # Supposing quadratic images\n",
    "            masks[masks == lbl] = 0\n",
    "            continue\n",
    "        new_labels.append(lbl)\n",
    "\n",
    "    # REMOVE CELLS WITH TOO DRASTICAL CHANGES IN SIZE\n",
    "    fltr_param = 0.5      # 0.5 was found to be a good value\n",
    "    fltd_labels = []\n",
    "    # print(labels)\n",
    "    for label in new_labels:\n",
    "        area_old = np.sum(masks[0] == label)\n",
    "        bad_label = False\n",
    "        counter = 0\n",
    "        for mask in masks[1:]:\n",
    "            area_new = np.sum(mask==label)\n",
    "            if area_new == 0:\n",
    "                continue\n",
    "            if area_old == 0:\n",
    "                area_old = area_new\n",
    "                continue\n",
    "            if abs((area_new-area_old)/min(area_new,area_old)) > fltr_param:\n",
    "                counter += 1\n",
    "                if counter >= 3:\n",
    "                    bad_label = True\n",
    "                    masks[masks == label] = 0\n",
    "                    break\n",
    "            area_old=area_new\n",
    "        if not bad_label:\n",
    "            fltd_labels.append(label)\n",
    "    return masks, labels, fltd_labels"
   ]
  },
  {
   "cell_type": "markdown",
   "metadata": {},
   "source": [
    "### Run code on one recording"
   ]
  },
  {
   "cell_type": "code",
   "execution_count": 201,
   "metadata": {},
   "outputs": [],
   "source": [
    "masks_path = \"//storage3.ad.scilifelab.se/alm/BrismarGroup/Hanna/240115_correlation_data/masks_tracked/2APB + OUA_15s.tif\"\n",
    "masks = tifffile.imread(masks_path)"
   ]
  },
  {
   "cell_type": "code",
   "execution_count": 206,
   "metadata": {},
   "outputs": [
    {
     "ename": "KeyboardInterrupt",
     "evalue": "",
     "output_type": "error",
     "traceback": [
      "\u001b[1;31m---------------------------------------------------------------------------\u001b[0m",
      "\u001b[1;31mKeyboardInterrupt\u001b[0m                         Traceback (most recent call last)",
      "Cell \u001b[1;32mIn[206], line 1\u001b[0m\n\u001b[1;32m----> 1\u001b[0m masks_fltd, labels, fltd_labels \u001b[38;5;241m=\u001b[39m \u001b[43mfilter_masks\u001b[49m\u001b[43m(\u001b[49m\u001b[43mmasks\u001b[49m\u001b[43m)\u001b[49m\n",
      "Cell \u001b[1;32mIn[200], line 3\u001b[0m, in \u001b[0;36mfilter_masks\u001b[1;34m(masks)\u001b[0m\n\u001b[0;32m      1\u001b[0m \u001b[38;5;28;01mdef\u001b[39;00m \u001b[38;5;21mfilter_masks\u001b[39m(masks):\n\u001b[0;32m      2\u001b[0m     labels, counts \u001b[38;5;241m=\u001b[39m pt\u001b[38;5;241m.\u001b[39mget_common_cells(masks, occurrence\u001b[38;5;241m=\u001b[39m\u001b[38;5;241m50\u001b[39m)\n\u001b[1;32m----> 3\u001b[0m     masks[\u001b[38;5;241;43m~\u001b[39;49m\u001b[43mnp\u001b[49m\u001b[38;5;241;43m.\u001b[39;49m\u001b[43misin\u001b[49m\u001b[43m(\u001b[49m\u001b[43mmasks\u001b[49m\u001b[43m,\u001b[49m\u001b[43m \u001b[49m\u001b[43mlabels\u001b[49m\u001b[43m)\u001b[49m] \u001b[38;5;241m=\u001b[39m \u001b[38;5;241m0\u001b[39m\n\u001b[0;32m      5\u001b[0m     \u001b[38;5;66;03m# REMOVE CELLS ON BORDER\u001b[39;00m\n\u001b[0;32m      6\u001b[0m     dimensions \u001b[38;5;241m=\u001b[39m masks\u001b[38;5;241m.\u001b[39mshape[\u001b[38;5;241m1\u001b[39m:]\n",
      "\u001b[1;31mKeyboardInterrupt\u001b[0m: "
     ]
    }
   ],
   "source": [
    "masks_fltd, labels, fltd_labels = filter_masks(masks)"
   ]
  },
  {
   "cell_type": "code",
   "execution_count": 203,
   "metadata": {},
   "outputs": [
    {
     "name": "stdout",
     "output_type": "stream",
     "text": [
      "{1, 3, 4, 7, 8, 9, 11, 14, 17, 18, 20, 24, 26, 27, 28, 30, 34, 35, 36, 37, 39, 40, 41, 42, 43, 49, 51, 52, 180, 54, 55, 57, 59, 62, 65, 67, 69, 71, 72, 73, 74, 75, 76, 79, 84, 87, 88, 91, 92, 93, 96, 97, 98, 100, 103, 104, 106, 108, 110, 113, 124, 126}\n"
     ]
    }
   ],
   "source": [
    "# These cells are removed\n",
    "print(set(labels) - set(fltd_labels))"
   ]
  },
  {
   "cell_type": "code",
   "execution_count": 205,
   "metadata": {},
   "outputs": [
    {
     "name": "stdout",
     "output_type": "stream",
     "text": [
      "{12, 21, 22, 25, 32, 38, 44, 46, 53, 56, 60, 61, 64, 66, 70, 77, 78, 81, 82, 86, 89, 90, 94, 99, 101, 102, 125}\n"
     ]
    }
   ],
   "source": [
    "# These cells are kept\n",
    "print(set(fltd_labels))"
   ]
  },
  {
   "cell_type": "markdown",
   "metadata": {},
   "source": [
    "### Run code on all recordings and generate pkl files"
   ]
  },
  {
   "cell_type": "code",
   "execution_count": 225,
   "metadata": {},
   "outputs": [],
   "source": [
    "def create_folder(folder_path):\n",
    "    if not os.path.exists(folder_path):\n",
    "        os.makedirs(folder_path)\n",
    "        print(f\"Folder '{folder_path}' created successfully.\")\n",
    "    else:\n",
    "        print(f\"Folder '{folder_path}' already exists.\")"
   ]
  },
  {
   "cell_type": "code",
   "execution_count": 229,
   "metadata": {},
   "outputs": [
    {
     "name": "stdout",
     "output_type": "stream",
     "text": [
      "Folder '//storage3.ad.scilifelab.se/alm/BrismarGroup/Hanna/Master2023/data/filtered_pkl/' created successfully.\n"
     ]
    }
   ],
   "source": [
    "pkl_path = \"//storage3.ad.scilifelab.se/alm/BrismarGroup/Hanna/Master2023/data/pkl/\"\n",
    "masks_path = \"//storage3.ad.scilifelab.se/alm/BrismarGroup/Hanna/240115_correlation_data/masks_tracked/\"\n",
    "save_path = \"//storage3.ad.scilifelab.se/alm/BrismarGroup/Hanna/Master2023/data/filtered_pkl/\"\n",
    "\n",
    "all_masks = os.listdir(masks_path)\n",
    "create_folder(save_path)\n",
    "\n",
    "for f in all_masks:\n",
    "    new_dict = {}\n",
    "    with open(masks_path+f, 'rb') as x:\n",
    "        masks = tifffile.imread(x)\n",
    "    masks_fltd, labels, fltd_labels = filter_masks(masks)\n",
    "\n",
    "    with open(pkl_path+f[:-4]+\".pkl\", 'rb') as x:\n",
    "        d = pd.read_pickle(x)\n",
    "\n",
    "    for lbl in fltd_labels:\n",
    "        new_dict[lbl] = d[lbl]\n",
    "\n",
    "    j = open(save_path+f[:-4]+\".pkl\",\"wb\")\n",
    "    pickle.dump(new_dict,j)\n",
    "    j.close()\n",
    "\n"
   ]
  }
 ],
 "metadata": {
  "kernelspec": {
   "display_name": "cellpose",
   "language": "python",
   "name": "python3"
  },
  "language_info": {
   "codemirror_mode": {
    "name": "ipython",
    "version": 3
   },
   "file_extension": ".py",
   "mimetype": "text/x-python",
   "name": "python",
   "nbconvert_exporter": "python",
   "pygments_lexer": "ipython3",
   "version": "3.8.16"
  }
 },
 "nbformat": 4,
 "nbformat_minor": 2
}
